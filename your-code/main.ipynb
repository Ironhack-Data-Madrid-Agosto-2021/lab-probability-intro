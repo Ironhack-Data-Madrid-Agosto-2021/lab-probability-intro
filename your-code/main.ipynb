{
 "cells": [
  {
   "cell_type": "markdown",
   "metadata": {},
   "source": [
    "# Probability"
   ]
  },
  {
   "cell_type": "markdown",
   "metadata": {},
   "source": [
    "## Challenge 1\n",
    "There is a box with 10 white balls, 12 red balls and 8 black balls. Calculate the probability of:\n",
    "* Taking a white ball out.\n",
    "* Taking a white ball on first extraction and a black ball out on second extraction without replacing the first one.\n",
    "* Taking a white ball on first extraction and a black ball out on second extraction replacing the first one.\n",
    "* Taking 3 balls and them being all different colours."
   ]
  },
  {
   "cell_type": "code",
   "execution_count": null,
   "metadata": {},
   "outputs": [],
   "source": [
    "\"\"\"\n",
    "1) 10/30\n",
    "2) 10/30 * 8/29\n",
    "3) 10/30 * 9/30\n",
    "your solution here\n",
    "\"\"\""
   ]
  },
  {
   "cell_type": "code",
   "execution_count": 56,
   "metadata": {},
   "outputs": [
    {
     "data": {
      "text/plain": [
       "0.23645320197044334"
      ]
     },
     "execution_count": 56,
     "metadata": {},
     "output_type": "execute_result"
    }
   ],
   "source": [
    "((10/30)*(12/29)*(8/28)) *6"
   ]
  },
  {
   "cell_type": "code",
   "execution_count": 69,
   "metadata": {},
   "outputs": [
    {
     "name": "stdout",
     "output_type": "stream",
     "text": [
      "0.23552\n"
     ]
    }
   ],
   "source": [
    "balls = [\"W\"]*10 +[\"R\"]*12 +[\"B\"]*8\n",
    "counter =0\n",
    "range_=100000\n",
    "for i in range(range_):\n",
    "    rand_choice = random.sample(balls, k=3)\n",
    "    if len(set(rand_choice))==3:\n",
    "        counter = counter + 1\n",
    "print(counter/range_)     \n"
   ]
  },
  {
   "cell_type": "code",
   "execution_count": 70,
   "metadata": {},
   "outputs": [
    {
     "name": "stdout",
     "output_type": "stream",
     "text": [
      "1:  0.3333333333333333\n",
      "2:  0.09195402298850575\n",
      "3:  0.08888888888888888\n"
     ]
    }
   ],
   "source": [
    "print(\"1: \", 10/30)\n",
    "print(\"2: \", 10/30 * 8/29)\n",
    "print(\"3: \", 10/30 * 8/30)"
   ]
  },
  {
   "cell_type": "markdown",
   "metadata": {},
   "source": [
    "## Challenge 2\n",
    "\n",
    "You want to go on picnic on Saturday. You hate rain, and would know to plan your weekend. To help you make a decision, you gather the following data about rainy days:\n",
    "\n",
    "* 40% of all days are cloudy.\n",
    "* About 50% of cloudy days are rainy. \n",
    "* About 20% of non-cloudy days are rainy.\n",
    "\n",
    "What is the chance of rain during next Saturday?"
   ]
  },
  {
   "cell_type": "code",
   "execution_count": 3,
   "metadata": {},
   "outputs": [
    {
     "name": "stdout",
     "output_type": "stream",
     "text": [
      "rainy_proability:  0.32\n"
     ]
    }
   ],
   "source": [
    "\"\"\"\n",
    "your solution here\n",
    "\"\"\"\n",
    "\n",
    "rainy_proability = 0.4*0.5 + 0.6*0.2\n",
    "print(\"rainy_proability: \", rainy_proability)"
   ]
  },
  {
   "cell_type": "markdown",
   "metadata": {},
   "source": [
    "## Challenge 3\n",
    "\n",
    "A and B are events of a probability such that $P(A) = 0.3$, $P(B) = 0.6$ and $P(A \\cap B) = 0.1$\n",
    "\n",
    "Which of the following statements are true?  \n",
    "**HINT: draw a big Venn Diagram by your side**  \n",
    "* $P(\\overline{A}) = 0.7$\n",
    "* $P(A \\cup B) = 0.6$\n",
    "* $P(A \\cap \\overline{B}) = 0.2$\n",
    "* $P(A \\cup \\overline{A}) = 1$  \n",
    "* $P(A \\cap (B \\cup \\overline{B})) = 0.4$\n",
    "* $P(\\overline{A} \\cap \\overline{B}) = 0.3$\n",
    "* $P(\\overline{A \\cap B}) = 0.9$"
   ]
  },
  {
   "cell_type": "code",
   "execution_count": null,
   "metadata": {},
   "outputs": [],
   "source": [
    "\"\"\"\n",
    "\n",
    "𝑃(𝐴⎯⎯⎯⎯)=0.7  TRUE\n",
    "𝑃(𝐴∪𝐵)=0.6  (0.3 + 0.6 -0) False\n",
    "𝑃(𝐴∩𝐵⎯⎯⎯⎯)=0.2 =0.12 TRUE \n",
    "𝑃(𝐴∪𝐴⎯⎯⎯⎯)=1  TRUE\n",
    "𝑃(𝐴∩(𝐵∪𝐵⎯⎯⎯⎯))=0.4 False\n",
    "𝑃(𝐴⎯⎯⎯⎯∩𝐵⎯⎯⎯⎯)=0.3 False\n",
    "𝑃(𝐴∩𝐵⎯⎯⎯⎯⎯⎯⎯⎯⎯⎯⎯⎯⎯⎯⎯)=0.9 TRUE\n",
    "your solution here\n",
    "\"\"\""
   ]
  },
  {
   "cell_type": "markdown",
   "metadata": {},
   "source": [
    "## Challenge 4\n",
    "\n",
    " * If someone flies to China, the probability of getting Covid is 1%  \n",
    " * If someone flies to Italy, the probability of getting Covid is 20%  \n",
    "\n",
    "I roll 1 dice with numbers 1, 2, 3, 4, 5, 6:  \n",
    " * If 1: I fly to Italy\n",
    " * If not 1: I fly to China\n",
    "\n",
    "During my trip, I got Covid. What is the probability that I flew to China?"
   ]
  },
  {
   "cell_type": "code",
   "execution_count": 7,
   "metadata": {},
   "outputs": [
    {
     "data": {
      "text/plain": [
       "0.047619047619047616"
      ]
     },
     "execution_count": 7,
     "metadata": {},
     "output_type": "execute_result"
    }
   ],
   "source": [
    "# your code here\n",
    "probability_go_china = 1/6\n",
    "probability_go_china = 5/6\n",
    "\n",
    "prob_get_covid_in_china = 0.01\n",
    "prob_get_covid_in_italy = 0.2\n",
    "\n",
    "prob_have_travel_china_if_i_got_covid = (probability_go_china*prob_get_covid_in_china) / (probability_go_china*prob_get_covid_in_china + probability_go_china*prob_get_covid_in_italy)\n",
    "\n"
   ]
  },
  {
   "cell_type": "code",
   "execution_count": 17,
   "metadata": {},
   "outputs": [
    {
     "data": {
      "text/plain": [
       "0.047619047619047616"
      ]
     },
     "execution_count": 17,
     "metadata": {},
     "output_type": "execute_result"
    }
   ],
   "source": [
    "\"\"\"\n",
    "your solution here\n",
    "\"\"\"\n",
    "prob_have_travel_china_if_i_got_covid"
   ]
  },
  {
   "cell_type": "markdown",
   "metadata": {},
   "source": [
    "## BONUS\n",
    "\n",
    "You roll 2 dice. What is the probability that the sum of the numbers is 7? And 8? And 9? Then simulate ## BONUS\n",
    "\n",
    "You roll 2 dice. What is the probability that the sum of the numbers is 7? And 8? And 9? Then simulate 10000 times and draw a countplot. times and draw a countplot."
   ]
  },
  {
   "cell_type": "markdown",
   "metadata": {},
   "source": [
    "your explanation here"
   ]
  },
  {
   "cell_type": "code",
   "execution_count": 16,
   "metadata": {},
   "outputs": [
    {
     "name": "stdout",
     "output_type": "stream",
     "text": [
      "prob_7:  0.16666666666666666\n",
      "prob_8:  0.1388888888888889\n",
      "prob_9:  0.1111111111111111\n",
      "counter_7:  0.1627\n",
      "counter_8:  0.1439\n",
      "counter_9:  0.1124\n"
     ]
    }
   ],
   "source": [
    "import random\n",
    "# your code here\n",
    "prob_7 = (1/36)*6\n",
    "prob_8 = (1/36)*5\n",
    "prob_9 = (1/36)*4\n",
    "print (\"prob_7: \", prob_7)\n",
    "print (\"prob_8: \", prob_8)\n",
    "print (\"prob_9: \", prob_9)\n",
    "rango = 10000\n",
    "counter_7 = 0\n",
    "\n",
    "for i in range(rango):\n",
    "    if sum(random.choices([1, 2, 3, 4, 5, 6], k=2)) == 7:\n",
    "        counter_7 += 1\n",
    "        \n",
    "counter_8 = 0\n",
    "\n",
    "for i in range(rango):\n",
    "    if sum(random.choices([1, 2, 3, 4, 5, 6], k=2)) == 8:\n",
    "        counter_8 += 1\n",
    "        \n",
    "counter_9 = 0\n",
    "\n",
    "for i in range(rango):\n",
    "    if sum(random.choices([1, 2, 3, 4, 5, 6], k=2)) == 9:\n",
    "        counter_9 += 1\n",
    "        \n",
    "print (\"counter_7: \", counter_7/rango) \n",
    "print (\"counter_8: \", counter_8/rango)\n",
    "print (\"counter_9: \", counter_9/rango)"
   ]
  },
  {
   "cell_type": "code",
   "execution_count": null,
   "metadata": {},
   "outputs": [],
   "source": [
    "\"\"\"\n",
    "your solution here\n",
    "\"\"\""
   ]
  }
 ],
 "metadata": {
  "kernelspec": {
   "display_name": "Python 3",
   "language": "python",
   "name": "python3"
  },
  "language_info": {
   "codemirror_mode": {
    "name": "ipython",
    "version": 3
   },
   "file_extension": ".py",
   "mimetype": "text/x-python",
   "name": "python",
   "nbconvert_exporter": "python",
   "pygments_lexer": "ipython3",
   "version": "3.8.8"
  },
  "toc": {
   "base_numbering": 1,
   "nav_menu": {},
   "number_sections": false,
   "sideBar": true,
   "skip_h1_title": false,
   "title_cell": "Table of Contents",
   "title_sidebar": "Contents",
   "toc_cell": false,
   "toc_position": {
    "height": "calc(100% - 180px)",
    "left": "10px",
    "top": "150px",
    "width": "296.475px"
   },
   "toc_section_display": true,
   "toc_window_display": false
  },
  "varInspector": {
   "cols": {
    "lenName": 16,
    "lenType": 16,
    "lenVar": 40
   },
   "kernels_config": {
    "python": {
     "delete_cmd_postfix": "",
     "delete_cmd_prefix": "del ",
     "library": "var_list.py",
     "varRefreshCmd": "print(var_dic_list())"
    },
    "r": {
     "delete_cmd_postfix": ") ",
     "delete_cmd_prefix": "rm(",
     "library": "var_list.r",
     "varRefreshCmd": "cat(var_dic_list()) "
    }
   },
   "types_to_exclude": [
    "module",
    "function",
    "builtin_function_or_method",
    "instance",
    "_Feature"
   ],
   "window_display": false
  }
 },
 "nbformat": 4,
 "nbformat_minor": 2
}
