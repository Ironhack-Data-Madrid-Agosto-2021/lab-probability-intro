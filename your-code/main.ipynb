{
 "cells": [
  {
   "cell_type": "markdown",
   "metadata": {},
   "source": [
    "# Probability"
   ]
  },
  {
   "cell_type": "markdown",
   "metadata": {},
   "source": [
    "## Challenge 1\n",
    "There is a box with 10 white balls, 12 red balls and 8 black balls. Calculate the probability of:\n",
    "* Taking a white ball out.\n",
    "* Taking a white ball on first extraction and a black ball out on second extraction without replacing the first one.\n",
    "* Taking a white ball on first extraction and a black ball out on second extraction replacing the first one.\n",
    "* Taking 3 balls and them being all different colours."
   ]
  },
  {
   "cell_type": "markdown",
   "metadata": {},
   "source": [
    "probability of take a white ball\n",
    "\n",
    "$P(W) = \\frac{10}{30} = 0.33 = 33\\%$"
   ]
  },
  {
   "cell_type": "markdown",
   "metadata": {},
   "source": [
    "probability of take a white ball on first extraction and a black ball out on second extraction without replacing the first one\n",
    "\n",
    "$P(W) = \\frac{10}{30} = 0.33 = 33\\%$\n",
    "\n",
    "$P(B) = \\frac{8}{29} = 0.27 = 27\\%$\n",
    "\n",
    "$W$, $B$ independent $\\Rightarrow$ $P(W \\cap B)=P(W) * P(B) = 0.089 = 8.9\\%$"
   ]
  },
  {
   "cell_type": "markdown",
   "metadata": {},
   "source": [
    "probability of take a white ball on first extraction and a black ball out on second extraction replacing the first one\n",
    "\n",
    "$P(W) = \\frac{10}{30} = 0.33 = 33\\%$\n",
    "\n",
    "$P(B) = \\frac{8}{30} = 0.26 = 26\\%$\n",
    "\n",
    "$W$, $B$ independent $\\Rightarrow$ $P(W \\cap B)=P(W) * P(B) = 0.085 = 8.5\\%$"
   ]
  },
  {
   "cell_type": "markdown",
   "metadata": {},
   "source": [
    "probability of take 3 balls and them being all different colours AT THE SAME TIME\n",
    "\n",
    "$P(W) = \\frac{10}{30} = 0.33 = 33\\%$\n",
    "\n",
    "$P(B) = \\frac{8}{30} = 0.26 = 26\\%$\n",
    "\n",
    "$P(R) = \\frac{12}{30} = 0.4 = 40\\%$\n",
    "\n",
    "$W$, $B$ dependent $\\Rightarrow$ $P(W \\cap B \\cap R)=P(W) * P(B|W) * P(R|B) = 0.33 * 0.26 * 0.4 = 0.0034 = 0.34\\%$"
   ]
  },
  {
   "cell_type": "markdown",
   "metadata": {},
   "source": [
    "probability of take 3 balls and them being all different colours\n",
    "\n",
    "$P(W) = \\frac{10}{30} = 0.33 = 33\\%$\n",
    "\n",
    "$P(B) = \\frac{8}{29} = 0.27 = 26\\%$\n",
    "\n",
    "$P(R) = \\frac{12}{28} = 0.42 = 42\\%$\n",
    "\n",
    "$W$, $B$, $B$ independent $\\Rightarrow$ $P(W \\cup B \\cup R)=P(W) * P(B) * P(R) = 0.33 * 0.27 * 0.42 = 0.037 = 3.7\\%$\n",
    "\n",
    "hay 6 combinatorias. todas ellas obtenemos que la prob es $3.7\\%$\n",
    "\n",
    "la probailidad final es la suma de todas ellas ó 0.037 * 6 = 0.22 = $22\\%$"
   ]
  },
  {
   "cell_type": "markdown",
   "metadata": {},
   "source": [
    "## Challenge 2\n",
    "\n",
    "You want to go on picnic on Saturday. You hate rain, and would know to plan your weekend. To help you make a decision, you gather the following data about rainy days:\n",
    "\n",
    "* 40% of all days are cloudy.\n",
    "* About 50% of cloudy days are rainy. \n",
    "* About 20% of non-cloudy days are rainy.\n",
    "\n",
    "What is the chance of rain during next Saturday?"
   ]
  },
  {
   "cell_type": "markdown",
   "metadata": {},
   "source": [
    "$P(rain) = P(cloud) * P(rain | cloud) + P(no-cloud) * P(rain | no-cloud)$\n",
    "\n",
    "$P(rain) = 0.6 * 0.2 + 0.4 * 0.5 = 0.32 = 32\\%$"
   ]
  },
  {
   "cell_type": "markdown",
   "metadata": {},
   "source": [
    "## Challenge 3\n",
    "\n",
    "A and B are events of a probability such that $P(A) = 0.3$, $P(B) = 0.6$ and $P(A \\cap B) = 0.1$\n",
    "\n",
    "Which of the following statements are true?  \n",
    "**HINT: draw a big Venn Diagram by your side**  \n",
    "* $P(\\overline{A}) = 0.7$\n",
    "* $P(A \\cup B) = 0.6$\n",
    "* $P(A \\cap \\overline{B}) = 0.2$\n",
    "* $P(A \\cup \\overline{A}) = 1$  \n",
    "* $P(A \\cap (B \\cup \\overline{B})) = 0.4$\n",
    "* $P(\\overline{A} \\cap \\overline{B}) = 0.3$\n",
    "* $P(\\overline{A \\cap B}) = 0.9$"
   ]
  },
  {
   "cell_type": "markdown",
   "metadata": {},
   "source": [
    "* $P(\\overline{A}) = 0.7$ $\\Rightarrow$ TRUE\n",
    "\n",
    "* $P(A \\cup B) = 0.6$ $\\Rightarrow$ FALSE\n",
    "\n",
    "* $P(A \\cap \\overline{B}) = 0.2$ $\\Rightarrow$ FALSE\n",
    "\n",
    "* $P(A \\cup \\overline{A}) = 1$ $\\Rightarrow$ TRUE\n",
    "\n",
    "* $P(A \\cap (B \\cup \\overline{B})) = 0.4$ $\\Rightarrow$ FALSE\n",
    "\n",
    "* $P(\\overline{A} \\cap \\overline{B}) = 0.3$ $\\Rightarrow$ FALSE\n",
    " \n",
    "* $P(\\overline{A \\cap B}) = 0.9$ $\\Rightarrow$ TRUE"
   ]
  },
  {
   "cell_type": "markdown",
   "metadata": {},
   "source": [
    "## Challenge 4\n",
    "\n",
    " * If someone flies to China, the probability of getting Covid is 1%  \n",
    " * If someone flies to Italy, the probability of getting Covid is 20%  \n",
    "\n",
    "I roll 1 dice with numbers 1, 2, 3, 4, 5, 6:  \n",
    " * If 1: I fly to Italy\n",
    " * If not 1: I fly to China\n",
    "\n",
    "During my trip, I got Covid. What is the probability that I flew to China?"
   ]
  },
  {
   "cell_type": "code",
   "execution_count": null,
   "metadata": {},
   "outputs": [],
   "source": [
    "# your code here"
   ]
  },
  {
   "cell_type": "code",
   "execution_count": 18,
   "metadata": {},
   "outputs": [],
   "source": [
    "import random\n",
    "\n",
    "def dice():\n",
    "    dado = []\n",
    "    dado.append(random.choice(range(1,7)))\n",
    "    return dado"
   ]
  },
  {
   "cell_type": "markdown",
   "metadata": {},
   "source": [
    "la probabilidad de viajar a china "
   ]
  },
  {
   "cell_type": "markdown",
   "metadata": {},
   "source": [
    "## BONUS\n",
    "\n",
    "You roll 2 dice. What is the probability that the sum of the numbers is 7? And 8? And 9? Then simulate 10000 times and draw a countplot."
   ]
  },
  {
   "cell_type": "markdown",
   "metadata": {},
   "source": [
    "your explanation here"
   ]
  },
  {
   "cell_type": "code",
   "execution_count": null,
   "metadata": {},
   "outputs": [],
   "source": [
    "# your code here"
   ]
  },
  {
   "cell_type": "code",
   "execution_count": null,
   "metadata": {},
   "outputs": [],
   "source": [
    "\"\"\"\n",
    "your solution here\n",
    "\"\"\""
   ]
  }
 ],
 "metadata": {
  "kernelspec": {
   "display_name": "ironhack",
   "language": "python",
   "name": "ironhack"
  },
  "language_info": {
   "codemirror_mode": {
    "name": "ipython",
    "version": 3
   },
   "file_extension": ".py",
   "mimetype": "text/x-python",
   "name": "python",
   "nbconvert_exporter": "python",
   "pygments_lexer": "ipython3",
   "version": "3.8.11"
  },
  "toc": {
   "base_numbering": 1,
   "nav_menu": {},
   "number_sections": false,
   "sideBar": true,
   "skip_h1_title": false,
   "title_cell": "Table of Contents",
   "title_sidebar": "Contents",
   "toc_cell": false,
   "toc_position": {
    "height": "calc(100% - 180px)",
    "left": "10px",
    "top": "150px",
    "width": "296.475px"
   },
   "toc_section_display": true,
   "toc_window_display": false
  },
  "varInspector": {
   "cols": {
    "lenName": 16,
    "lenType": 16,
    "lenVar": 40
   },
   "kernels_config": {
    "python": {
     "delete_cmd_postfix": "",
     "delete_cmd_prefix": "del ",
     "library": "var_list.py",
     "varRefreshCmd": "print(var_dic_list())"
    },
    "r": {
     "delete_cmd_postfix": ") ",
     "delete_cmd_prefix": "rm(",
     "library": "var_list.r",
     "varRefreshCmd": "cat(var_dic_list()) "
    }
   },
   "types_to_exclude": [
    "module",
    "function",
    "builtin_function_or_method",
    "instance",
    "_Feature"
   ],
   "window_display": false
  }
 },
 "nbformat": 4,
 "nbformat_minor": 2
}
